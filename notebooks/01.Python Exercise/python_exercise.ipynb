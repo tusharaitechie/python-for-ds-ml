{
 "cells": [
  {
   "cell_type": "markdown",
   "id": "b4656f77-6905-481c-8d57-ccb1ed886ee1",
   "metadata": {},
   "source": [
    "# Python Exercise"
   ]
  },
  {
   "cell_type": "markdown",
   "id": "b74a0936-ed2a-4ee7-9c78-80959518505c",
   "metadata": {},
   "source": [
    "#### First Program"
   ]
  },
  {
   "cell_type": "code",
   "execution_count": 1,
   "id": "8246fef3-5c39-4199-9b84-95f662de51c7",
   "metadata": {},
   "outputs": [
    {
     "name": "stdout",
     "output_type": "stream",
     "text": [
      "Hello World\n"
     ]
    }
   ],
   "source": [
    "print(\"Hello World\")"
   ]
  },
  {
   "cell_type": "markdown",
   "id": "c2f8711e-13ef-4341-892b-3807cd845079",
   "metadata": {},
   "source": [
    "#### Data Types"
   ]
  },
  {
   "cell_type": "markdown",
   "id": "ec8a7295-199c-4d43-be5c-328c031b0b1e",
   "metadata": {},
   "source": [
    "#### Integer & Float"
   ]
  },
  {
   "cell_type": "code",
   "execution_count": 3,
   "id": "6cd677ca-e43f-472e-a587-087dd272d91d",
   "metadata": {},
   "outputs": [
    {
     "data": {
      "text/plain": [
       "int"
      ]
     },
     "execution_count": 3,
     "metadata": {},
     "output_type": "execute_result"
    }
   ],
   "source": [
    "# To check the data type, we can use the type function \n",
    "type(1)"
   ]
  },
  {
   "cell_type": "code",
   "execution_count": 4,
   "id": "dcd1e82a-4c74-4a0f-85c0-925ee086bc7a",
   "metadata": {},
   "outputs": [
    {
     "data": {
      "text/plain": [
       "float"
      ]
     },
     "execution_count": 4,
     "metadata": {},
     "output_type": "execute_result"
    }
   ],
   "source": [
    "type(2.3)"
   ]
  },
  {
   "cell_type": "markdown",
   "id": "14585af5-806f-48b2-b027-40579792dc55",
   "metadata": {},
   "source": [
    "### Math Operators"
   ]
  },
  {
   "cell_type": "code",
   "execution_count": 5,
   "id": "7c5dc7a9-a7c3-476d-adfe-f8d9b2697e11",
   "metadata": {},
   "outputs": [
    {
     "data": {
      "text/plain": [
       "3"
      ]
     },
     "execution_count": 5,
     "metadata": {},
     "output_type": "execute_result"
    }
   ],
   "source": [
    "1 + 2"
   ]
  },
  {
   "cell_type": "code",
   "execution_count": 6,
   "id": "58234950-450b-4180-911f-f9ad1a0a6b56",
   "metadata": {},
   "outputs": [
    {
     "data": {
      "text/plain": [
       "9"
      ]
     },
     "execution_count": 6,
     "metadata": {},
     "output_type": "execute_result"
    }
   ],
   "source": [
    "3 ** 2"
   ]
  },
  {
   "cell_type": "markdown",
   "id": "a478d95b-ea42-4e88-940f-f15ab5197256",
   "metadata": {},
   "source": [
    "#### Boolean"
   ]
  },
  {
   "cell_type": "code",
   "execution_count": 7,
   "id": "8308abdf-f53f-4422-80cd-b1329ddb9f11",
   "metadata": {},
   "outputs": [
    {
     "data": {
      "text/plain": [
       "bool"
      ]
     },
     "execution_count": 7,
     "metadata": {},
     "output_type": "execute_result"
    }
   ],
   "source": [
    "type(True)"
   ]
  },
  {
   "cell_type": "markdown",
   "id": "3696717c-c409-4427-b5d7-3c788c4c7a19",
   "metadata": {},
   "source": [
    "#### String"
   ]
  },
  {
   "cell_type": "code",
   "execution_count": 9,
   "id": "17487bda-4771-4e9f-86a7-468f55ca51a8",
   "metadata": {},
   "outputs": [
    {
     "data": {
      "text/plain": [
       "str"
      ]
     },
     "execution_count": 9,
     "metadata": {},
     "output_type": "execute_result"
    }
   ],
   "source": [
    "type(\"Hello World\")"
   ]
  },
  {
   "cell_type": "markdown",
   "id": "46ea5161-7108-4544-8986-fa358be66cb4",
   "metadata": {},
   "source": [
    "#### String Methods"
   ]
  },
  {
   "cell_type": "code",
   "execution_count": 11,
   "id": "c303aec1-ca6a-4591-ac6a-80b417a8b598",
   "metadata": {},
   "outputs": [
    {
     "name": "stdout",
     "output_type": "stream",
     "text": [
      "HELLO WORLD\n",
      "hello world\n",
      "Hello World\n",
      "0\n",
      "hellu wurld\n"
     ]
    }
   ],
   "source": [
    "# change case of text\n",
    "print(\"Hello World\".upper())\n",
    "print(\"Hello World\".lower())\n",
    "print(\"hello world\".title())\n",
    "\n",
    "# count letters\n",
    "print(\"hello world\".count(\"1\"))\n",
    "# replace string letters\n",
    "print(\"hello world\".replace('o', 'u'))"
   ]
  },
  {
   "cell_type": "markdown",
   "id": "dbce2940-71f2-4e71-ab6c-edb4718f877e",
   "metadata": {},
   "source": [
    "#### Variables"
   ]
  },
  {
   "cell_type": "code",
   "execution_count": 12,
   "id": "429b33f4-4d4e-4ea6-90d8-0a8b0510f01e",
   "metadata": {},
   "outputs": [],
   "source": [
    "# message_1 = |I'm learning Python\"\n",
    "message_1 = \"I'm learning Java\""
   ]
  },
  {
   "cell_type": "code",
   "execution_count": 13,
   "id": "aed7e959-da5c-4a7a-b17c-96dad0244f90",
   "metadata": {},
   "outputs": [
    {
     "data": {
      "text/plain": [
       "\"I'm learning Java\""
      ]
     },
     "execution_count": 13,
     "metadata": {},
     "output_type": "execute_result"
    }
   ],
   "source": [
    "message_1"
   ]
  },
  {
   "cell_type": "code",
   "execution_count": 15,
   "id": "2abd8f65-4c52-41f7-9298-a8369322084c",
   "metadata": {},
   "outputs": [],
   "source": [
    "# message_2 = \"and it's fun!\"\n",
    "message_2 = \"and it's boring!\""
   ]
  },
  {
   "cell_type": "markdown",
   "id": "6bad1998-f3bf-4713-9700-bd50a464c779",
   "metadata": {},
   "source": [
    "### String Concatenation"
   ]
  },
  {
   "cell_type": "code",
   "execution_count": 16,
   "id": "64acb104-ef61-4f70-b891-6c8b2f82fe6c",
   "metadata": {},
   "outputs": [
    {
     "data": {
      "text/plain": [
       "\"I'm learning Javaand it's boring!\""
      ]
     },
     "execution_count": 16,
     "metadata": {},
     "output_type": "execute_result"
    }
   ],
   "source": [
    "message_1 + message_2"
   ]
  },
  {
   "cell_type": "code",
   "execution_count": 18,
   "id": "4e5dee1d-9709-4fbd-a9ac-98c18f6e4cd2",
   "metadata": {},
   "outputs": [
    {
     "data": {
      "text/plain": [
       "\"I'm learning Java and it's boring!\""
      ]
     },
     "execution_count": 18,
     "metadata": {},
     "output_type": "execute_result"
    }
   ],
   "source": [
    "message = message_1 + ' ' + message_2\n",
    "message "
   ]
  },
  {
   "cell_type": "markdown",
   "id": "4d55d0f2-4f2a-4e10-88b9-ca3dc3460933",
   "metadata": {},
   "source": [
    "### List"
   ]
  },
  {
   "cell_type": "code",
   "execution_count": 19,
   "id": "9fb5d98c-e844-4cf0-ab99-1ccc116fe157",
   "metadata": {},
   "outputs": [],
   "source": [
    "countries = ['United States', 'India', 'China', 'Brazil']"
   ]
  },
  {
   "cell_type": "markdown",
   "id": "1469bcfb-d279-478f-90f5-f308907f7d76",
   "metadata": {},
   "source": [
    "### Indexing"
   ]
  },
  {
   "cell_type": "code",
   "execution_count": 20,
   "id": "fd79df8f-1bf9-441a-921c-1ba60aeaa401",
   "metadata": {},
   "outputs": [
    {
     "name": "stdout",
     "output_type": "stream",
     "text": [
      "United States\n",
      "India\n",
      "China\n",
      "Brazil\n"
     ]
    }
   ],
   "source": [
    "print(countries[0])\n",
    "print(countries[1])\n",
    "print(countries[2])\n",
    "print(countries[3])"
   ]
  },
  {
   "cell_type": "markdown",
   "id": "596274e5-42ed-4333-bfa2-c4fa7787c767",
   "metadata": {},
   "source": [
    "### Slicing"
   ]
  },
  {
   "cell_type": "code",
   "execution_count": 21,
   "id": "cfcadaf6-d723-42e5-912a-e3dc2838fd65",
   "metadata": {},
   "outputs": [
    {
     "name": "stdout",
     "output_type": "stream",
     "text": [
      "['United States', 'India', 'China']\n",
      "['India', 'China', 'Brazil']\n",
      "['United States', 'India']\n"
     ]
    }
   ],
   "source": [
    "print(countries[0:3])\n",
    "print(countries[1:])\n",
    "print(countries[:2])"
   ]
  },
  {
   "cell_type": "markdown",
   "id": "263c12bb-afd0-4b0f-b52d-0ac8dd2782d8",
   "metadata": {},
   "source": [
    "### List Operations & Methods"
   ]
  },
  {
   "cell_type": "markdown",
   "id": "a0b1db91-d8b8-4fcc-bdb6-717aefbab0e9",
   "metadata": {},
   "source": [
    "#### Adding elements to a list"
   ]
  },
  {
   "cell_type": "code",
   "execution_count": 23,
   "id": "3e83e836-5c07-42ae-890d-30735bf5aabc",
   "metadata": {},
   "outputs": [
    {
     "data": {
      "text/plain": [
       "['United States', 'India', 'China', 'Brazil', 'Canada']"
      ]
     },
     "execution_count": 23,
     "metadata": {},
     "output_type": "execute_result"
    }
   ],
   "source": [
    "# append: Adds a new element at the end of a list\n",
    "countries = ['United States', 'India', 'China', 'Brazil']\n",
    "countries.append('Canada')\n",
    "countries"
   ]
  },
  {
   "cell_type": "code",
   "execution_count": 24,
   "id": "d15cff84-2aa2-47ca-928b-3cf8958c6aab",
   "metadata": {},
   "outputs": [
    {
     "data": {
      "text/plain": [
       "['Canada', 'United States', 'India', 'China', 'Brazil']"
      ]
     },
     "execution_count": 24,
     "metadata": {},
     "output_type": "execute_result"
    }
   ],
   "source": [
    "# insert: Adds a new element at a specific position\n",
    "countries = ['United States', 'India', 'China', 'Brazil']\n",
    "countries.insert(0, 'Canada')\n",
    "countries"
   ]
  },
  {
   "cell_type": "code",
   "execution_count": 25,
   "id": "b4d893a6-3499-4318-9910-eccf81820c6d",
   "metadata": {},
   "outputs": [
    {
     "data": {
      "text/plain": [
       "['Canada',\n",
       " 'United States',\n",
       " 'India',\n",
       " 'China',\n",
       " 'Brazil',\n",
       " 'UK',\n",
       " 'Germany',\n",
       " 'Austria']"
      ]
     },
     "execution_count": 25,
     "metadata": {},
     "output_type": "execute_result"
    }
   ],
   "source": [
    "# joining lists using the + operators\n",
    "countries_2 = ['UK', 'Germany', 'Austria']\n",
    "countries + countries_2"
   ]
  },
  {
   "cell_type": "code",
   "execution_count": 26,
   "id": "f0b17f48-b257-4938-8aa1-97e8517cbdd1",
   "metadata": {},
   "outputs": [
    {
     "data": {
      "text/plain": [
       "[['Canada', 'United States', 'India', 'China', 'Brazil'],\n",
       " ['UK', 'Germany', 'Austria']]"
      ]
     },
     "execution_count": 26,
     "metadata": {},
     "output_type": "execute_result"
    }
   ],
   "source": [
    "# nestedf list\n",
    "nested_list = [countries, countries_2]\n",
    "nested_list"
   ]
  },
  {
   "cell_type": "markdown",
   "id": "0ffb45f9-434f-4bdf-8318-fcd8241aea2d",
   "metadata": {},
   "source": [
    "### Remove an element"
   ]
  },
  {
   "cell_type": "code",
   "execution_count": 27,
   "id": "bdeb0063-eb35-465b-a0af-b7fe1e6215af",
   "metadata": {},
   "outputs": [
    {
     "name": "stdout",
     "output_type": "stream",
     "text": [
      "['United States', 'India', 'China', 'Brazil']\n",
      "['India', 'China', 'Brazil']\n",
      "['China', 'Brazil']\n",
      "['Brazil']\n"
     ]
    }
   ],
   "source": [
    "countries = ['United States', 'India', 'China', 'Brazil']\n",
    "print(countries)\n",
    "\n",
    "# .remove() Removes the first matching value\n",
    "countries.remove('United States')\n",
    "print(countries)\n",
    "# .pop() Removes an item at an specific index and then returns it.\n",
    "countries.pop(0)\n",
    "print(countries)\n",
    "# del: removes an item at an specific index\n",
    "del countries[0]\n",
    "print(countries)"
   ]
  },
  {
   "cell_type": "markdown",
   "id": "ef976d91-2ed0-4a7e-b47d-fba7d0d33466",
   "metadata": {},
   "source": [
    "### Sorting a list"
   ]
  },
  {
   "cell_type": "code",
   "execution_count": 28,
   "id": "784293fa-ab41-4001-a4b1-8a240b7f140a",
   "metadata": {},
   "outputs": [
    {
     "data": {
      "text/plain": [
       "[1, 2, 3, 4, 7, 10]"
      ]
     },
     "execution_count": 28,
     "metadata": {},
     "output_type": "execute_result"
    }
   ],
   "source": [
    "numbers = [4, 3, 10, 7, 1, 2]\n",
    "numbers.sort()\n",
    "numbers"
   ]
  },
  {
   "cell_type": "code",
   "execution_count": 29,
   "id": "daa85a31-d127-4587-8bef-ef85649801bb",
   "metadata": {},
   "outputs": [
    {
     "data": {
      "text/plain": [
       "[10, 7, 4, 3, 2, 1]"
      ]
     },
     "execution_count": 29,
     "metadata": {},
     "output_type": "execute_result"
    }
   ],
   "source": [
    "numbers = [4, 3, 10, 7, 1, 2]\n",
    "numbers.sort(reverse=True)\n",
    "numbers"
   ]
  },
  {
   "cell_type": "markdown",
   "id": "8d4fb39d-e175-4a28-9967-a1cc295f6b1b",
   "metadata": {},
   "source": [
    "### Update value on a list"
   ]
  },
  {
   "cell_type": "code",
   "execution_count": 30,
   "id": "9b33da78-cdfe-47e5-a0d4-63d4298af3ea",
   "metadata": {},
   "outputs": [
    {
     "data": {
      "text/plain": [
       "[1000, 7, 4, 3, 2, 1]"
      ]
     },
     "execution_count": 30,
     "metadata": {},
     "output_type": "execute_result"
    }
   ],
   "source": [
    "numbers[0] = 1000\n",
    "numbers"
   ]
  },
  {
   "cell_type": "markdown",
   "id": "22f550b0-702b-44f7-9d7a-d7ab9089d073",
   "metadata": {},
   "source": [
    "### Copying a list"
   ]
  },
  {
   "cell_type": "code",
   "execution_count": 31,
   "id": "ad095d31-cb3b-4833-a059-4f5774cfe36d",
   "metadata": {},
   "outputs": [
    {
     "name": "stdout",
     "output_type": "stream",
     "text": [
      "['Brazil']\n",
      "['Brazil']\n"
     ]
    }
   ],
   "source": [
    "new_list = countries[:]\n",
    "print(new_list)\n",
    "new_list_2 = countries.copy()\n",
    "print(new_list_2)"
   ]
  },
  {
   "cell_type": "markdown",
   "id": "1161ba43-5331-431d-a704-5d6bc9629812",
   "metadata": {},
   "source": [
    "### Dictionary"
   ]
  },
  {
   "cell_type": "code",
   "execution_count": 39,
   "id": "9fddf30d-ec15-43d5-8582-24a87fbd3ddd",
   "metadata": {},
   "outputs": [],
   "source": [
    "my_data = {'name': 'Tushar', 'age': 21}"
   ]
  },
  {
   "cell_type": "code",
   "execution_count": 40,
   "id": "205458d4-5b4e-4b20-8e8a-628757ec429e",
   "metadata": {},
   "outputs": [
    {
     "data": {
      "text/plain": [
       "'Tushar'"
      ]
     },
     "execution_count": 40,
     "metadata": {},
     "output_type": "execute_result"
    }
   ],
   "source": [
    "my_data['name']"
   ]
  },
  {
   "cell_type": "code",
   "execution_count": 41,
   "id": "e05ca79a-9f63-4e17-ad4a-d08012a64b45",
   "metadata": {},
   "outputs": [
    {
     "data": {
      "text/plain": [
       "dict_keys(['name', 'age'])"
      ]
     },
     "execution_count": 41,
     "metadata": {},
     "output_type": "execute_result"
    }
   ],
   "source": [
    "my_data.keys()"
   ]
  },
  {
   "cell_type": "code",
   "execution_count": 42,
   "id": "7c050bb7-ffe5-4189-b651-41a877daebd8",
   "metadata": {},
   "outputs": [
    {
     "data": {
      "text/plain": [
       "dict_values(['Tushar', 21])"
      ]
     },
     "execution_count": 42,
     "metadata": {},
     "output_type": "execute_result"
    }
   ],
   "source": [
    "my_data.values()"
   ]
  },
  {
   "cell_type": "code",
   "execution_count": 43,
   "id": "c7553178-fd64-418e-baf5-137b15d6151c",
   "metadata": {},
   "outputs": [
    {
     "data": {
      "text/plain": [
       "dict_items([('name', 'Tushar'), ('age', 21)])"
      ]
     },
     "execution_count": 43,
     "metadata": {},
     "output_type": "execute_result"
    }
   ],
   "source": [
    "my_data.items()"
   ]
  },
  {
   "cell_type": "markdown",
   "id": "719b0015-c2b0-46e8-bb3d-0eda69be1f25",
   "metadata": {},
   "source": [
    "### Add/Update elements"
   ]
  },
  {
   "cell_type": "code",
   "execution_count": 44,
   "id": "53f42892-5d55-4376-ba0a-4d5536a56c73",
   "metadata": {},
   "outputs": [],
   "source": [
    "my_data['height'] = 1.7"
   ]
  },
  {
   "cell_type": "code",
   "execution_count": 45,
   "id": "b2e1131e-c880-42f0-bc04-67c3d83a864b",
   "metadata": {},
   "outputs": [
    {
     "data": {
      "text/plain": [
       "{'name': 'Tushar', 'age': 21, 'height': 1.7}"
      ]
     },
     "execution_count": 45,
     "metadata": {},
     "output_type": "execute_result"
    }
   ],
   "source": [
    "my_data"
   ]
  },
  {
   "cell_type": "code",
   "execution_count": 46,
   "id": "15485ef1-cbda-4fad-a207-4106fe1ad042",
   "metadata": {},
   "outputs": [],
   "source": [
    "my_data.update({'height': 1.8 , 'languages': ['English', 'Spanish']})"
   ]
  },
  {
   "cell_type": "markdown",
   "id": "3e5ba947-ab4b-40af-a1d7-f0f2cd83bb1a",
   "metadata": {},
   "source": [
    "### Copy a dictionary"
   ]
  },
  {
   "cell_type": "code",
   "execution_count": 47,
   "id": "3dca4b11-0878-48f7-a3be-5ae459fcc146",
   "metadata": {},
   "outputs": [
    {
     "data": {
      "text/plain": [
       "{'name': 'Tushar',\n",
       " 'age': 21,\n",
       " 'height': 1.8,\n",
       " 'languages': ['English', 'Spanish']}"
      ]
     },
     "execution_count": 47,
     "metadata": {},
     "output_type": "execute_result"
    }
   ],
   "source": [
    "new_dict = my_data.copy()\n",
    "new_dict"
   ]
  },
  {
   "cell_type": "markdown",
   "id": "85a47894-be3e-49b2-b9d5-e04b7e84bf68",
   "metadata": {},
   "source": [
    "### Remove elements"
   ]
  },
  {
   "cell_type": "code",
   "execution_count": 48,
   "id": "969f5b35-eaf8-416e-b5f3-df56f360c5d3",
   "metadata": {},
   "outputs": [
    {
     "data": {
      "text/plain": [
       "1.8"
      ]
     },
     "execution_count": 48,
     "metadata": {},
     "output_type": "execute_result"
    }
   ],
   "source": [
    "my_data.pop('height')"
   ]
  },
  {
   "cell_type": "code",
   "execution_count": 49,
   "id": "490a1ee1-db39-4884-a9fb-04574e41eda7",
   "metadata": {},
   "outputs": [
    {
     "data": {
      "text/plain": [
       "{'name': 'Tushar', 'age': 21, 'languages': ['English', 'Spanish']}"
      ]
     },
     "execution_count": 49,
     "metadata": {},
     "output_type": "execute_result"
    }
   ],
   "source": [
    "my_data"
   ]
  },
  {
   "cell_type": "code",
   "execution_count": 51,
   "id": "3890a2c6-0753-4ba6-83fe-a0bc5b50efd2",
   "metadata": {},
   "outputs": [],
   "source": [
    "del my_data['languages']"
   ]
  },
  {
   "cell_type": "code",
   "execution_count": 52,
   "id": "ba133471-9f0f-44ff-8766-9e930195abb3",
   "metadata": {},
   "outputs": [
    {
     "data": {
      "text/plain": [
       "{'name': 'Tushar', 'age': 21}"
      ]
     },
     "execution_count": 52,
     "metadata": {},
     "output_type": "execute_result"
    }
   ],
   "source": [
    "my_data"
   ]
  },
  {
   "cell_type": "code",
   "execution_count": 53,
   "id": "b4c9c04f-20ac-4b54-a9ce-03d1ddc62bc4",
   "metadata": {},
   "outputs": [],
   "source": [
    "my_data.clear()"
   ]
  },
  {
   "cell_type": "code",
   "execution_count": 54,
   "id": "b1689d48-689c-4f34-85f6-67dfdf3aff5e",
   "metadata": {},
   "outputs": [
    {
     "data": {
      "text/plain": [
       "{}"
      ]
     },
     "execution_count": 54,
     "metadata": {},
     "output_type": "execute_result"
    }
   ],
   "source": [
    "my_data"
   ]
  },
  {
   "cell_type": "markdown",
   "id": "063af479-78c1-4a06-8ade-44dce0f8645e",
   "metadata": {},
   "source": [
    "### If Statement"
   ]
  },
  {
   "cell_type": "code",
   "execution_count": 55,
   "id": "19b02949-416a-4826-9428-785370d50872",
   "metadata": {},
   "outputs": [
    {
     "name": "stdout",
     "output_type": "stream",
     "text": [
      "You're an adult!\n"
     ]
    }
   ],
   "source": [
    "age = 18\n",
    "\n",
    "if age>=18:\n",
    "    print(\"You're an adult!\")\n",
    "elif age >= 13:\n",
    "    print(\"You're a teenager!\")\n",
    "else:\n",
    "    print(\"You're a kid\")"
   ]
  },
  {
   "cell_type": "code",
   "execution_count": 58,
   "id": "0b0c8466-3485-4c39-b93a-289c831fa12b",
   "metadata": {},
   "outputs": [
    {
     "name": "stdout",
     "output_type": "stream",
     "text": [
      "Country is in list\n"
     ]
    }
   ],
   "source": [
    "countries = ['United States', 'India', 'China', 'Brazil']\n",
    "\n",
    "if 'China' in countries:\n",
    "    print(\"Country is in list\")\n",
    "else:\n",
    "    print(\"Not in list\")"
   ]
  },
  {
   "cell_type": "markdown",
   "id": "f860384d-c2d0-4894-8c33-011379133bd8",
   "metadata": {},
   "source": [
    "### Operators"
   ]
  },
  {
   "cell_type": "markdown",
   "id": "1db96a61-cf2e-47a3-b8e7-90cefa677044",
   "metadata": {},
   "source": [
    "### For Loop"
   ]
  },
  {
   "cell_type": "code",
   "execution_count": 59,
   "id": "be5f781c-88ed-42b4-a663-328081d6ce5c",
   "metadata": {},
   "outputs": [
    {
     "name": "stdout",
     "output_type": "stream",
     "text": [
      "United States\n",
      "India\n",
      "China\n",
      "Brazil\n"
     ]
    }
   ],
   "source": [
    "for country in countries:\n",
    "    print(country)"
   ]
  },
  {
   "cell_type": "code",
   "execution_count": 60,
   "id": "601ed4a7-5510-4e95-9cc3-64293c5b56e2",
   "metadata": {},
   "outputs": [
    {
     "name": "stdout",
     "output_type": "stream",
     "text": [
      "United States\n"
     ]
    }
   ],
   "source": [
    "for country in countries:\n",
    "    if country == \"United States\":\n",
    "        print(country)"
   ]
  },
  {
   "cell_type": "markdown",
   "id": "0921297f-0b99-42b7-a9e9-1f267e246aba",
   "metadata": {},
   "source": [
    "### Enumerating in a for loop"
   ]
  },
  {
   "cell_type": "code",
   "execution_count": 61,
   "id": "442ae623-dc35-4c55-b2ec-93a54dfa6081",
   "metadata": {},
   "outputs": [
    {
     "name": "stdout",
     "output_type": "stream",
     "text": [
      "0\n",
      "United States\n",
      "1\n",
      "India\n",
      "2\n",
      "China\n",
      "3\n",
      "Brazil\n"
     ]
    }
   ],
   "source": [
    "for i, country in enumerate(countries):\n",
    "    print(i)\n",
    "    print(country)"
   ]
  },
  {
   "cell_type": "markdown",
   "id": "e2b76dc1-a875-41e7-b294-8f0b963268d1",
   "metadata": {},
   "source": [
    "### Looping through dictionary elements "
   ]
  },
  {
   "cell_type": "code",
   "execution_count": 65,
   "id": "b8c46cd2-b7b2-42a8-8e43-743ee7e7e6a6",
   "metadata": {},
   "outputs": [],
   "source": [
    "for key, value in my_data.items():\n",
    "    print(key)\n",
    "    print(value)"
   ]
  },
  {
   "cell_type": "markdown",
   "id": "992b5b7d-a139-475a-a9ff-b9f6cc74598b",
   "metadata": {},
   "source": [
    "### Functions"
   ]
  },
  {
   "cell_type": "markdown",
   "id": "5128cf1b-8297-4fa9-9430-73ecf0b83c79",
   "metadata": {},
   "source": [
    "#### Built-In Functions"
   ]
  },
  {
   "cell_type": "markdown",
   "id": "817e4f41-3bd3-48f2-a0fc-5d85e3488efd",
   "metadata": {},
   "source": [
    "1. range()\n",
    "2. len()\n",
    "3. max()\n",
    "4. min()\n",
    "5. round()\n",
    "6. type()"
   ]
  },
  {
   "cell_type": "markdown",
   "id": "41647b18-0c48-4e35-9478-43a852e4187e",
   "metadata": {},
   "source": [
    "### How to Create a Function"
   ]
  },
  {
   "cell_type": "code",
   "execution_count": 66,
   "id": "6b33523f-5580-4814-b890-2d14aafcf057",
   "metadata": {},
   "outputs": [],
   "source": [
    "def sum_values(a,b):\n",
    "    x = a+b\n",
    "    return x"
   ]
  },
  {
   "cell_type": "code",
   "execution_count": 67,
   "id": "b7b5f478-d85c-49c9-904a-c52f5468a32a",
   "metadata": {},
   "outputs": [
    {
     "data": {
      "text/plain": [
       "5"
      ]
     },
     "execution_count": 67,
     "metadata": {},
     "output_type": "execute_result"
    }
   ],
   "source": [
    "sum_values(2, 3)"
   ]
  },
  {
   "cell_type": "markdown",
   "id": "8807981c-e2d7-4ec9-9c5f-16fd5559af5f",
   "metadata": {},
   "source": [
    "### Modules"
   ]
  },
  {
   "cell_type": "markdown",
   "id": "60281195-f126-433d-970e-f845a7b74acd",
   "metadata": {},
   "source": [
    "#### OS Module"
   ]
  },
  {
   "cell_type": "code",
   "execution_count": 68,
   "id": "0718d2ba-80e4-4e8f-bd9f-6414b5fadf23",
   "metadata": {},
   "outputs": [],
   "source": [
    "import os"
   ]
  },
  {
   "cell_type": "code",
   "execution_count": 71,
   "id": "f121f4dd-a838-4aaf-993e-d4767c01b5ed",
   "metadata": {},
   "outputs": [
    {
     "data": {
      "text/plain": [
       "<function nt.getcwd()>"
      ]
     },
     "execution_count": 71,
     "metadata": {},
     "output_type": "execute_result"
    }
   ],
   "source": [
    "os.getcwd()"
   ]
  },
  {
   "cell_type": "code",
   "execution_count": 72,
   "id": "a9fa4e5b-bdd2-4c0c-9705-b4614e2dc10c",
   "metadata": {},
   "outputs": [
    {
     "data": {
      "text/plain": [
       "['.ipynb_checkpoints',\n",
       " 'greatLearningMl.ipynb',\n",
       " 'iris.csv',\n",
       " 'Matlabplt.ipynb',\n",
       " 'pandasExercise.ipynb',\n",
       " 'pythonex1.ipynb',\n",
       " 'pythonExercise.ipynb',\n",
       " 'scikitlearn.ipynb',\n",
       " 'seaborn.ipynb',\n",
       " 'test.csv',\n",
       " 'Test_new.csv',\n",
       " 'Test_new1.csv',\n",
       " 'Test_new2.csv',\n",
       " 'titanic_complete.csv',\n",
       " 'Untitled.ipynb',\n",
       " 'untitled.py',\n",
       " 'Untitled1.ipynb']"
      ]
     },
     "execution_count": 72,
     "metadata": {},
     "output_type": "execute_result"
    }
   ],
   "source": [
    "os.listdir()"
   ]
  },
  {
   "cell_type": "code",
   "execution_count": null,
   "id": "9a06b8a4-554d-4e90-bf1d-36afc67a9a4d",
   "metadata": {},
   "outputs": [],
   "source": [
    "os.makedirs('New Folder')"
   ]
  },
  {
   "cell_type": "code",
   "execution_count": null,
   "id": "12ccef46-e6bf-4a65-989d-adcb1c5f733d",
   "metadata": {},
   "outputs": [],
   "source": [
    "os.listdir()"
   ]
  }
 ],
 "metadata": {
  "kernelspec": {
   "display_name": "Python 3 (ipykernel)",
   "language": "python",
   "name": "python3"
  },
  "language_info": {
   "codemirror_mode": {
    "name": "ipython",
    "version": 3
   },
   "file_extension": ".py",
   "mimetype": "text/x-python",
   "name": "python",
   "nbconvert_exporter": "python",
   "pygments_lexer": "ipython3",
   "version": "3.12.7"
  }
 },
 "nbformat": 4,
 "nbformat_minor": 5
}
